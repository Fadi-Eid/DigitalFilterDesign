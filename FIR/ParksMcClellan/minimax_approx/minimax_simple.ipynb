{
 "cells": [
  {
   "cell_type": "code",
   "execution_count": 1,
   "id": "c6e56051",
   "metadata": {},
   "outputs": [],
   "source": [
    "import numpy as np\n",
    "import matplotlib.pyplot as plt"
   ]
  },
  {
   "cell_type": "code",
   "execution_count": 90,
   "id": "d71458a3",
   "metadata": {},
   "outputs": [],
   "source": [
    "def desired_function(x):\n",
    "    x = np.exp(-x) * np.sin(np.pi * x)\n",
    "    return x\n",
    "\n",
    "def generate_M(Psi):\n",
    "    N = Psi.shape[0] # length of Psi + 2\n",
    "    indices = np.arange(N)  # array containing indices from 0 to N-1\n",
    "    last_column = (-1) ** indices  # the alternating sign column\n",
    "    last_column = last_column[:, np.newaxis]  # reshape to column vector\n",
    "    first_column = np.ones(N)\n",
    "    first_column = first_column[:, np.newaxis]\n",
    "    inner_column = np.power(Psi[:, np.newaxis], np.arange(1, N-1))\n",
    "    M = np.hstack((first_column, inner_column, last_column))\n",
    "    return M\n",
    "\n",
    "def generate_F(Psi):\n",
    "    return desired_function(Psi)\n",
    "\n",
    "def generate_A(Psi):\n",
    "    M = generate_M(Psi)\n",
    "    F = generate_F(Psi)\n",
    "    A = np.linalg.solve(M, F)\n",
    "    return A\n",
    "\n",
    "def evaluate_polynomial_number(coeffs, x):\n",
    "    result = 0\n",
    "    for i in range(len(coeffs) - 1):  # Exclude the last coefficient\n",
    "        result += coeffs[i] * (x ** i)\n",
    "    return result\n",
    "\n",
    "def actual_function(A, boundaries, N):\n",
    "    x_values = np.linspace(boundaries[0], boundaries[1], N)\n",
    "    polynomial_values = np.zeros(N)\n",
    "    for i, value in enumerate(x_values):\n",
    "        polynomial_values[i] = evaluate_polynomial_number(A, value)\n",
    "    return polynomial_values\n",
    "\n",
    "def error_function(f_x, p_x):\n",
    "    return f_x - p_x\n",
    "\n",
    "def find_max_error_index(e_x):\n",
    "    return np.argmax(np.abs(e_x))\n",
    "\n",
    "def find_max_error_value(e_x):\n",
    "    return np.max(np.abs(e_x))\n",
    "    \n",
    "def update_ref_set(Psi, e_x):\n",
    "    index_max = find_max_error_index(e_x)   # index of the max error in e_x\n",
    "    x_max = index_max / len(e_x)    # x-coordinate value of the max error\n",
    "    max_error = e_x[index_max]      # exact, signed value of the max error\n",
    "    # replace Psi[i] with x_max to update the reference set\n",
    "    # find the closest index of the element the closest to x_max n Psi\n",
    "    closest_index = np.abs(Psi - x_max).argmin()\n",
    "    "
   ]
  },
  {
   "cell_type": "code",
   "execution_count": 94,
   "id": "d41202d4",
   "metadata": {},
   "outputs": [
    {
     "data": {
      "text/plain": [
       "array([0.        , 0.33333333, 0.66666667, 1.        ])"
      ]
     },
     "execution_count": 94,
     "metadata": {},
     "output_type": "execute_result"
    },
    {
     "data": {
      "image/png": "[encoded data removed]",
      "text/plain": [
       "<Figure size 432x288 with 1 Axes>"
      ]
     },
     "metadata": {
      "needs_background": "light"
     },
     "output_type": "display_data"
    }
   ],
   "source": [
    "# create the initial reference set (P + 2 = 4)\n",
    "P = 2# order of the polynomial\n",
    "# generate initial reference set\n",
    "Psi = np.linspace(0, 1, P + 2)\n",
    "A = generate_A(Psi)\n",
    "f_x = desired_function(np.linspace(0, 1, 1000))\n",
    "p_x = actual_function(A, [0, 1], 1000)\n",
    "e_x = error_function(f_x, e_x)\n",
    "plt.plot(e_x)\n",
    "Psi"
   ]
  },
  {
   "cell_type": "code",
   "execution_count": null,
   "id": "ac37e93c",
   "metadata": {},
   "outputs": [],
   "source": []
  }
 ],
 "metadata": {
  "kernelspec": {
   "display_name": "Python 3 (ipykernel)",
   "language": "python",
   "name": "python3"
  },
  "language_info": {
   "codemirror_mode": {
    "name": "ipython",
    "version": 3
   },
   "file_extension": ".py",
   "mimetype": "text/x-python",
   "name": "python",
   "nbconvert_exporter": "python",
   "pygments_lexer": "ipython3",
   "version": "3.9.12"
  }
 },
 "nbformat": 4,
 "nbformat_minor": 5
}
